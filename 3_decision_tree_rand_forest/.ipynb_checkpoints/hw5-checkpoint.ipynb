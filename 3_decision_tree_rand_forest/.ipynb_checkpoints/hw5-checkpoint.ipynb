{
 "cells": [
  {
   "cell_type": "markdown",
   "metadata": {},
   "source": [
    "## Basic Data Structure - Nodes"
   ]
  },
  {
   "cell_type": "code",
   "execution_count": 44,
   "metadata": {
    "collapsed": false
   },
   "outputs": [],
   "source": [
    "class SplitNode:\n",
    "    def __init__(self, feat, threshold, left, right):\n",
    "        self.feat = feat\n",
    "        self.threshold = threshold\n",
    "        self.left = left\n",
    "        self.right = right\n",
    "        \n",
    "    def traverse(self, query, verbose=False):\n",
    "        if verbose:\n",
    "            print \"Feature: \" + str(self.feat) + \", Threashold: \" + str(self.threshold)\n",
    "        if query[self.feat] < self.threshold:\n",
    "            return self.left.traverse(query, verbose)\n",
    "        else:\n",
    "            return self.right.traverse(query, verbose)\n",
    "        \n",
    "class LeafNode:\n",
    "    def __init__(self,members):\n",
    "        self.members = members\n",
    "        \n",
    "    def traverse(self,query, verbose=False):\n",
    "        labels = [x[1] for x in self.members]\n",
    "        majority = max(set(labels), key=labels.count)\n",
    "        return majority"
   ]
  },
  {
   "cell_type": "markdown",
   "metadata": {},
   "source": [
    "## Decision Tree"
   ]
  },
  {
   "cell_type": "code",
   "execution_count": 45,
   "metadata": {
    "collapsed": false
   },
   "outputs": [],
   "source": [
    "from math import log\n",
    "from numpy import median\n",
    "import random\n",
    "\n",
    "class DecisionTree:\n",
    "    def __init__(self, data, maxDepth=None, numFeats=None):\n",
    "        self.data = data\n",
    "        self.maxDepth = maxDepth\n",
    "        if numFeats is None:\n",
    "            self.numFeats = len(data[0][0])\n",
    "        else:\n",
    "            self.numFeats = numFeats\n",
    "        self.fit()\n",
    "        \n",
    "    def fit(self):\n",
    "        self.root = self.build_tree(self.data,0)\n",
    "        \n",
    "    def classify(self, query, verbose=False):\n",
    "        return self.root.traverse(query, verbose)\n",
    "    \n",
    "    def test(self, data):\n",
    "        numSamples = float(len(data))\n",
    "        trueLabels = [x[1] for x in data]\n",
    "        predLabels = [self.classify(x[0]) for x in data]\n",
    "        return sum([(1/numSamples) if (i != j) else 0 for i,j in zip(trueLabels, predLabels)])\n",
    "    \n",
    "    def build_tree(self,data, depth):\n",
    "        if self.maxDepth and depth == self.maxDepth:\n",
    "            return LeafNode(data)\n",
    "        labelSet = set([x[1] for x in data])\n",
    "        if len(labelSet) == 1:\n",
    "            return LeafNode(data)\n",
    "        \n",
    "        feat, threshold = self.bestSplit(data)\n",
    "        \n",
    "        if feat is None:\n",
    "            return LeafNode(data)\n",
    "        \n",
    "        left = []\n",
    "        right = []\n",
    "        \n",
    "        for x in data:\n",
    "            if x[0][feat] < threshold: left.append(x)\n",
    "            else: right.append(x)\n",
    "                \n",
    "        leftNode = self.build_tree(left, depth + 1)\n",
    "        rightNode = self.build_tree(right, depth + 1)\n",
    "        \n",
    "        return SplitNode(feat, threshold, leftNode, rightNode)\n",
    "    \n",
    "    def bestSplit(self, data):\n",
    "        entropy = self.entropy(data)\n",
    "        \n",
    "        bestFeat = None\n",
    "        bestThreshold = 0.0\n",
    "        bestInfoGain = -1.0\n",
    "        \n",
    "        features = random.sample(range(len(data[0][0])), self.numFeats)\n",
    "        \n",
    "        for feat in features:\n",
    "            thresholds = list(set([x[0][feat] for x in data]))\n",
    "            thresholds += [(min(thresholds) + max(thresholds) / 2.0)]\n",
    "            thresholds += [median(thresholds)]\n",
    "            thresholds = sorted(thresholds)\n",
    "            categorical = False\n",
    "            \n",
    "            for thre in thresholds:\n",
    "                left = []\n",
    "                right = []\n",
    "                for x in data:\n",
    "                    if x[0][feat] < thre: left.append(x)\n",
    "                    else: right.append(x)\n",
    "\n",
    "                if not right or not left:\n",
    "                    continue\n",
    "                    \n",
    "                pLeft = float(len(left))/ len(data)\n",
    "                pRight = 1 - pLeft\n",
    "                eLeft = self.entropy(left)\n",
    "                eRight = self.entropy(right)\n",
    "                infoGain = entropy - pLeft*eLeft - pRight*eRight\n",
    "                \n",
    "                if infoGain > bestInfoGain:\n",
    "                    bestInfoGain = infoGain\n",
    "                    bestFeat = feat\n",
    "                    bestThreshold = thre\n",
    "        return (bestFeat, bestThreshold)\n",
    "            \n",
    "    def entropy(self, data):\n",
    "        labels = [x[1] for x in data]\n",
    "        dataSize = len(labels)\n",
    "        diffLabels = set(labels)\n",
    "        dist = []\n",
    "        for lbl in diffLabels:\n",
    "            dist.append(float(labels.count(lbl)) / dataSize)\n",
    "        return -sum([p*log(p,2) for p in dist])"
   ]
  },
  {
   "cell_type": "markdown",
   "metadata": {},
   "source": [
    "## Spam evaluation on Decision Tree"
   ]
  },
  {
   "cell_type": "code",
   "execution_count": 46,
   "metadata": {
    "collapsed": false
   },
   "outputs": [
    {
     "data": {
      "text/plain": [
       "{'__globals__': [],\n",
       " '__header__': 'MATLAB 5.0 MAT-file Platform: posix, Created on: Tue Jan 20 22:50:03 2015',\n",
       " '__version__': '1.0',\n",
       " 'test_data': array([[ 0.,  0.,  0., ...,  0.,  0.,  0.],\n",
       "        [ 0.,  0.,  0., ...,  0.,  0.,  0.],\n",
       "        [ 0.,  0.,  0., ...,  0.,  0.,  0.],\n",
       "        ..., \n",
       "        [ 0.,  0.,  0., ...,  0.,  0.,  0.],\n",
       "        [ 0.,  0.,  0., ...,  0.,  0.,  0.],\n",
       "        [ 0.,  0.,  0., ...,  3.,  0.,  0.]]),\n",
       " 'training_data': array([[ 0.,  0.,  0., ...,  0.,  0.,  0.],\n",
       "        [ 0.,  0.,  0., ...,  0.,  0.,  0.],\n",
       "        [ 0.,  0.,  0., ...,  0.,  0.,  0.],\n",
       "        ..., \n",
       "        [ 0.,  0.,  0., ...,  0.,  0.,  0.],\n",
       "        [ 0.,  0.,  1., ...,  4.,  0.,  0.],\n",
       "        [ 0.,  0.,  0., ...,  2.,  0.,  0.]]),\n",
       " 'training_labels': array([[1, 1, 1, ..., 0, 0, 0]], dtype=int64)}"
      ]
     },
     "execution_count": 46,
     "metadata": {},
     "output_type": "execute_result"
    }
   ],
   "source": [
    "from scipy.io import loadmat\n",
    "import matplotlib.pyplot as plt\n",
    "%matplotlib inline\n",
    "\n",
    "data = loadmat('./spam-dataset/spam_data.mat')\n",
    "data"
   ]
  },
  {
   "cell_type": "code",
   "execution_count": 47,
   "metadata": {
    "collapsed": false
   },
   "outputs": [],
   "source": [
    "train_data = data['training_data']\n",
    "train_labels = data['training_labels'][0]\n",
    "train = []\n",
    "for d, l in zip(train_data, train_labels):\n",
    "    train.append((d,l))\n",
    "random.shuffle(train)"
   ]
  },
  {
   "cell_type": "code",
   "execution_count": 48,
   "metadata": {
    "collapsed": false
   },
   "outputs": [],
   "source": [
    "classifier = DecisionTree(train[:4000], 25)"
   ]
  },
  {
   "cell_type": "markdown",
   "metadata": {},
   "source": [
    "## Decision Tree classification error rate"
   ]
  },
  {
   "cell_type": "code",
   "execution_count": 49,
   "metadata": {
    "collapsed": false
   },
   "outputs": [
    {
     "data": {
      "text/plain": [
       "0.16894197952218482"
      ]
     },
     "execution_count": 49,
     "metadata": {},
     "output_type": "execute_result"
    }
   ],
   "source": [
    "classifier.test(train[4000:])"
   ]
  },
  {
   "cell_type": "markdown",
   "metadata": {},
   "source": [
    "## Feature / Threshold of data point"
   ]
  },
  {
   "cell_type": "code",
   "execution_count": 52,
   "metadata": {
    "collapsed": false
   },
   "outputs": [
    {
     "name": "stdout",
     "output_type": "stream",
     "text": [
      "Feature: 28, Threashold: 1.0\n",
      "Feature: 19, Threashold: 1.0\n",
      "Feature: 29, Threashold: 1.0\n",
      "Feature: 26, Threashold: 1.0\n",
      "Feature: 3, Threashold: 1.0\n",
      "Feature: 0, Threashold: 0.5\n",
      "Feature: 15, Threashold: 1.0\n",
      "Feature: 25, Threashold: 5.0\n",
      "Feature: 29, Threashold: 5.0\n",
      "Feature: 24, Threashold: 1.5\n",
      "Feature: 6, Threashold: 0.5\n",
      "Feature: 13, Threashold: 1.0\n"
     ]
    },
    {
     "data": {
      "text/plain": [
       "0"
      ]
     },
     "execution_count": 52,
     "metadata": {},
     "output_type": "execute_result"
    }
   ],
   "source": [
    "classifier.classify(train[3000][0], True)"
   ]
  },
  {
   "cell_type": "markdown",
   "metadata": {},
   "source": [
    "### Testing different tree depths"
   ]
  },
  {
   "cell_type": "code",
   "execution_count": 53,
   "metadata": {
    "collapsed": false
   },
   "outputs": [],
   "source": [
    "depths = [None, 5, 10, 15, 20, 25, 30, 50]\n",
    "err_rates = []\n",
    "for dpt in depths:\n",
    "    classifier = DecisionTree(train[:4000], dpt)\n",
    "    err_rates.append(classifier.test(train[4000:]))"
   ]
  },
  {
   "cell_type": "code",
   "execution_count": 54,
   "metadata": {
    "collapsed": false
   },
   "outputs": [
    {
     "data": {
      "text/plain": [
       "[<matplotlib.lines.Line2D at 0x205fe6d8>]"
      ]
     },
     "execution_count": 54,
     "metadata": {},
     "output_type": "execute_result"
    },
    {
     "data": {
      "image/png": "[encoded data removed]",
      "text/plain": [
       "<matplotlib.figure.Figure at 0x264033c8>"
      ]
     },
     "metadata": {},
     "output_type": "display_data"
    }
   ],
   "source": [
    "plt.plot(depths, err_rates)"
   ]
  },
  {
   "cell_type": "markdown",
   "metadata": {},
   "source": [
    "## Random Forests"
   ]
  },
  {
   "cell_type": "markdown",
   "metadata": {},
   "source": [
    "To reuse the Decision tree class we needed only change its constructor and the bestSplit method. It was necessary to add a number of features variable to the constructor ,which in the case of the Decision tree it is set to the length of hte entire set of features and in the case of Random forests it is set to a smaller number of features.  \n",
    "\n",
    "The bestSplit method uses this number of fetures variable to randomly sample which features to use. In the case of Decision trees, the whole set is sampled, since random.sample takes samples without replacement. "
   ]
  },
  {
   "cell_type": "code",
   "execution_count": 60,
   "metadata": {
    "collapsed": false
   },
   "outputs": [],
   "source": [
    "class RandomForests:\n",
    "    def __init__(self, data, numFeats=15, numTrees=50, maxDepth=20):\n",
    "        self.data = data\n",
    "        self.maxDepth = maxDepth\n",
    "        self.numFeats = numFeats\n",
    "        self.numTrees = numTrees\n",
    "        self.trees = []\n",
    "        self.fit()\n",
    "        \n",
    "    def fit(self):\n",
    "        for i in range(self.numTrees):\n",
    "            data = []\n",
    "            for j in range(len(self.data)):\n",
    "                data.append(self.data[random.randint(0, len(self.data) - 1)])\n",
    "            self.trees += [DecisionTree(self.data, self.maxDepth, self.numFeats)]\n",
    "    \n",
    "    def classify(self, query):\n",
    "        labels = [tree.classify(query) for tree in self.trees]\n",
    "        majority = max(set(labels), key=labels.count)\n",
    "        return majority\n",
    "    \n",
    "    def test(self, data):\n",
    "        numSamples = float(len(data))\n",
    "        trueLabels = [x[1] for x in data]\n",
    "        predLabels = [self.classify(x[0]) for x in data]\n",
    "        return sum([(1/numSamples) if (i != j) else 0 for i,j in zip(trueLabels, predLabels)])"
   ]
  },
  {
   "cell_type": "markdown",
   "metadata": {},
   "source": [
    "## Spam Evaluation on Random Forests"
   ]
  },
  {
   "cell_type": "code",
   "execution_count": 56,
   "metadata": {
    "collapsed": false
   },
   "outputs": [],
   "source": [
    "classifier = RandomForests(train[:4000])"
   ]
  },
  {
   "cell_type": "markdown",
   "metadata": {},
   "source": [
    "## Random Forests classification error"
   ]
  },
  {
   "cell_type": "code",
   "execution_count": 57,
   "metadata": {
    "collapsed": false
   },
   "outputs": [
    {
     "data": {
      "text/plain": [
       "0.1621160409556318"
      ]
     },
     "execution_count": 57,
     "metadata": {},
     "output_type": "execute_result"
    }
   ],
   "source": [
    "classifier.test(train[4000:])"
   ]
  },
  {
   "cell_type": "markdown",
   "metadata": {},
   "source": [
    "## Testing different number of Features"
   ]
  },
  {
   "cell_type": "code",
   "execution_count": 58,
   "metadata": {
    "collapsed": false
   },
   "outputs": [],
   "source": [
    "numFeats = [5, 10, 15]\n",
    "err_rates = []\n",
    "for numF in numFeats:\n",
    "    classifier = RandomForests(train[:4000], numFeats=numF)\n",
    "    err_rates.append(classifier.test(train[4000:]))"
   ]
  },
  {
   "cell_type": "code",
   "execution_count": 59,
   "metadata": {
    "collapsed": false
   },
   "outputs": [
    {
     "data": {
      "text/plain": [
       "[<matplotlib.lines.Line2D at 0x1c33c668>]"
      ]
     },
     "execution_count": 59,
     "metadata": {},
     "output_type": "execute_result"
    },
    {
     "data": {
      "image/png": "[encoded data removed]",
      "text/plain": [
       "<matplotlib.figure.Figure at 0x21fc7c18>"
      ]
     },
     "metadata": {},
     "output_type": "display_data"
    }
   ],
   "source": [
    "plt.plot(numFeats, err_rates)"
   ]
  },
  {
   "cell_type": "markdown",
   "metadata": {},
   "source": [
    "## Testing different number of trees"
   ]
  },
  {
   "cell_type": "code",
   "execution_count": 61,
   "metadata": {
    "collapsed": false
   },
   "outputs": [],
   "source": [
    "numTrees = [5, 10, 15, 20, 30, 50]\n",
    "err_rates = []\n",
    "for numT in numTrees:\n",
    "    classifier = RandomForests(train[:4000], numTrees=numT)\n",
    "    err_rates.append(classifier.test(train[4000:]))"
   ]
  },
  {
   "cell_type": "code",
   "execution_count": 62,
   "metadata": {
    "collapsed": false
   },
   "outputs": [
    {
     "data": {
      "text/plain": [
       "[<matplotlib.lines.Line2D at 0x1b6e18d0>]"
      ]
     },
     "execution_count": 62,
     "metadata": {},
     "output_type": "execute_result"
    },
    {
     "data": {
      "image/png": "[encoded data removed]",
      "text/plain": [
       "<matplotlib.figure.Figure at 0x3d3ce780>"
      ]
     },
     "metadata": {},
     "output_type": "display_data"
    }
   ],
   "source": [
    "plt.plot(numTrees, err_rates)"
   ]
  },
  {
   "cell_type": "markdown",
   "metadata": {},
   "source": [
    "## Most common root node features"
   ]
  },
  {
   "cell_type": "code",
   "execution_count": 63,
   "metadata": {
    "collapsed": false
   },
   "outputs": [],
   "source": [
    "classifier = RandomForests(train[:4000], numTrees=50, maxDepth=15)"
   ]
  },
  {
   "cell_type": "code",
   "execution_count": 64,
   "metadata": {
    "collapsed": false
   },
   "outputs": [
    {
     "name": "stdout",
     "output_type": "stream",
     "text": [
      "The most common feature at the root node is: 28 with 26 trees.\n"
     ]
    }
   ],
   "source": [
    "roots = [tree.root.feat for tree in classifier.trees]\n",
    "majority = max(set(roots), key=roots.count)\n",
    "print 'The most common feature at the root node is: ' + str(majority) + ' with ' + str(roots.count(majority)) + ' trees.'"
   ]
  },
  {
   "cell_type": "markdown",
   "metadata": {},
   "source": [
    "## Spam Kaggle Competition"
   ]
  },
  {
   "cell_type": "code",
   "execution_count": 21,
   "metadata": {
    "collapsed": false
   },
   "outputs": [],
   "source": [
    "test = data['test_data']"
   ]
  },
  {
   "cell_type": "markdown",
   "metadata": {},
   "source": [
    "## Decision Tree Kaggle Score"
   ]
  },
  {
   "cell_type": "code",
   "execution_count": 22,
   "metadata": {
    "collapsed": false
   },
   "outputs": [],
   "source": [
    "decTreeClass = DecisionTree(train[:4000], maxDepth=25)"
   ]
  },
  {
   "cell_type": "code",
   "execution_count": 23,
   "metadata": {
    "collapsed": false
   },
   "outputs": [],
   "source": [
    "decTreePred = [decTreeClass.classify(x) for x in test]"
   ]
  },
  {
   "cell_type": "code",
   "execution_count": 42,
   "metadata": {
    "collapsed": false
   },
   "outputs": [],
   "source": [
    "import csv\n",
    "\n",
    "with open('dtSpam_kaggle.csv', 'wb') as csvfile:\n",
    "    spamWriter = csv.writer(csvfile, delimiter=',', lineterminator='\\n')\n",
    "    spamWriter.writerow(['Id', 'Category'])\n",
    "    for i,pred in enumerate(decTreePred, start=1):\n",
    "        spamWriter.writerow([str(i), str(int(pred))])"
   ]
  },
  {
   "cell_type": "markdown",
   "metadata": {},
   "source": [
    "Kaggle Score = 0.74488"
   ]
  },
  {
   "cell_type": "markdown",
   "metadata": {},
   "source": [
    "## Random Forests Kaggle Score"
   ]
  },
  {
   "cell_type": "code",
   "execution_count": 28,
   "metadata": {
    "collapsed": false
   },
   "outputs": [],
   "source": [
    "rfTreeClass = RandomForests(train)"
   ]
  },
  {
   "cell_type": "code",
   "execution_count": 29,
   "metadata": {
    "collapsed": false
   },
   "outputs": [],
   "source": [
    "rfTreePred = [rfTreeClass.classify(x) for x in test]"
   ]
  },
  {
   "cell_type": "code",
   "execution_count": 30,
   "metadata": {
    "collapsed": false
   },
   "outputs": [],
   "source": [
    "with open('rfSpam_kaggle.csv', 'wb') as csvfile:\n",
    "    spamWriter = csv.writer(csvfile, delimiter=',', lineterminator='\\n')\n",
    "    spamWriter.writerow(['Id', 'Category'])\n",
    "    for i,pred in enumerate(decTreePred, start=1):\n",
    "        spamWriter.writerow([str(i), str(int(pred))])"
   ]
  },
  {
   "cell_type": "markdown",
   "metadata": {},
   "source": [
    "Kaggle Score = 0.74488"
   ]
  },
  {
   "cell_type": "markdown",
   "metadata": {},
   "source": [
    "# Census Data Processing"
   ]
  },
  {
   "cell_type": "code",
   "execution_count": 65,
   "metadata": {
    "collapsed": false
   },
   "outputs": [],
   "source": [
    "from csv import DictReader\n",
    "from sklearn.feature_extraction import DictVectorizer\n",
    "\n",
    "train = []\n",
    "with open('./census-dataset/data.csv') as csvfile:\n",
    "    reader = DictReader(csvfile)\n",
    "    for row in reader:\n",
    "        train.append(row)\n",
    "        \n",
    "test = []\n",
    "with open('./census-dataset/test_data.csv') as csvfile:\n",
    "    reader = DictReader(csvfile)\n",
    "    for row in reader:\n",
    "        test.append(row)"
   ]
  },
  {
   "cell_type": "code",
   "execution_count": 66,
   "metadata": {
    "collapsed": false
   },
   "outputs": [],
   "source": [
    "for i in range(len(train)):\n",
    "    train[i]['age'] = int(train[i]['age'])\n",
    "    train[i]['fnlwgt'] = int(train[i]['fnlwgt'])\n",
    "    train[i]['education-num'] = int(train[i]['education-num'])\n",
    "    train[i]['capital-gain'] = int(train[i]['capital-gain'])\n",
    "    train[i]['capital-loss'] = int(train[i]['capital-loss'])\n",
    "    train[i]['hours-per-week'] = int(train[i]['hours-per-week'])\n",
    "    \n",
    "for i in range(len(test)):\n",
    "    test[i]['age'] = int(test[i]['age'])\n",
    "    test[i]['fnlwgt'] = int(test[i]['fnlwgt'])\n",
    "    test[i]['education-num'] = int(test[i]['education-num'])\n",
    "    test[i]['capital-gain'] = int(test[i]['capital-gain'])\n",
    "    test[i]['capital-loss'] = int(test[i]['capital-loss'])\n",
    "    test[i]['hours-per-week'] = int(test[i]['hours-per-week'])"
   ]
  },
  {
   "cell_type": "code",
   "execution_count": 67,
   "metadata": {
    "collapsed": false
   },
   "outputs": [],
   "source": [
    "v = DictVectorizer(sparse=False)"
   ]
  },
  {
   "cell_type": "code",
   "execution_count": 68,
   "metadata": {
    "collapsed": false
   },
   "outputs": [],
   "source": [
    "labelRows = []\n",
    "for i in range(len(train)):\n",
    "    labelRows.append(train[i]['label'])\n",
    "    train[i].pop('label', None)\n",
    "\n",
    "complete = test + train\n",
    "binData = v.fit_transform(complete)"
   ]
  },
  {
   "cell_type": "code",
   "execution_count": 69,
   "metadata": {
    "collapsed": false
   },
   "outputs": [],
   "source": [
    "featRows = binData[:32724, :].tolist()\n",
    "cleanTrain = []\n",
    "for point, label in zip(featRows, labelRows):\n",
    "    cleanTrain.append([point, label])\n",
    "    \n",
    "cleanTest = binData[32724:, :].tolist()"
   ]
  },
  {
   "cell_type": "markdown",
   "metadata": {},
   "source": [
    "# Census evaluation on Decision Tree"
   ]
  },
  {
   "cell_type": "code",
   "execution_count": 70,
   "metadata": {
    "collapsed": false
   },
   "outputs": [],
   "source": [
    "classifier = DecisionTree(cleanTrain[:25000], maxDepth=25)"
   ]
  },
  {
   "cell_type": "markdown",
   "metadata": {},
   "source": [
    "### Decision Tree Classification Error"
   ]
  },
  {
   "cell_type": "code",
   "execution_count": 71,
   "metadata": {
    "collapsed": false
   },
   "outputs": [
    {
     "data": {
      "text/plain": [
       "0.28469704816156916"
      ]
     },
     "execution_count": 71,
     "metadata": {},
     "output_type": "execute_result"
    }
   ],
   "source": [
    "classifier.test(cleanTrain[25000:])"
   ]
  },
  {
   "cell_type": "markdown",
   "metadata": {},
   "source": [
    "## Feature / Threshold of data point"
   ]
  },
  {
   "cell_type": "code",
   "execution_count": 72,
   "metadata": {
    "collapsed": false
   },
   "outputs": [
    {
     "name": "stdout",
     "output_type": "stream",
     "text": [
      "Feature: 21, Threashold: 7.0\n",
      "Feature: 31, Threashold: 0.5\n",
      "Feature: 46, Threashold: 0.5\n",
      "Feature: 85, Threashold: 0.5\n",
      "Feature: 20, Threashold: 266598.0\n",
      "Feature: 20, Threashold: 265671.0\n",
      "Feature: 39, Threashold: 0.5\n",
      "Feature: 24, Threashold: 0.5\n",
      "Feature: 20, Threashold: 236391.0\n",
      "Feature: 20, Threashold: 234500.0\n",
      "Feature: 0, Threashold: 72.0\n",
      "Feature: 3, Threashold: 3.0\n",
      "Feature: 20, Threashold: 221561.0\n",
      "Feature: 0, Threashold: 22.0\n",
      "Feature: 105, Threashold: 0.5\n",
      "Feature: 21, Threashold: 88.0\n",
      "Feature: 38, Threashold: 0.5\n",
      "Feature: 20, Threashold: 218782.0\n",
      "Feature: 20, Threashold: 218184.0\n",
      "Feature: 21, Threashold: 18.0\n",
      "Feature: 21, Threashold: 33.0\n",
      "Feature: 93, Threashold: 0.5\n",
      "Feature: 20, Threashold: 34173.0\n",
      "Feature: 20, Threashold: 34748.0\n",
      "Feature: 20, Threashold: 50934.0\n"
     ]
    },
    {
     "data": {
      "text/plain": [
       "'0'"
      ]
     },
     "execution_count": 72,
     "metadata": {},
     "output_type": "execute_result"
    }
   ],
   "source": [
    "classifier.classify(cleanTrain[30000][0], True)"
   ]
  },
  {
   "cell_type": "markdown",
   "metadata": {},
   "source": [
    "## Census evaluation on Random Forests"
   ]
  },
  {
   "cell_type": "code",
   "execution_count": null,
   "metadata": {
    "collapsed": false
   },
   "outputs": [],
   "source": [
    "classifier = RandomForests(cleanTrain[:25000], numTrees=15)"
   ]
  },
  {
   "cell_type": "markdown",
   "metadata": {},
   "source": [
    "### Random Forests Classification Error"
   ]
  },
  {
   "cell_type": "code",
   "execution_count": null,
   "metadata": {
    "collapsed": false
   },
   "outputs": [],
   "source": [
    "classifier.test(cleanTrain[25000:])"
   ]
  }
 ],
 "metadata": {
  "kernelspec": {
   "display_name": "Python 2",
   "language": "python",
   "name": "python2"
  },
  "language_info": {
   "codemirror_mode": {
    "name": "ipython",
    "version": 2
   },
   "file_extension": ".py",
   "mimetype": "text/x-python",
   "name": "python",
   "nbconvert_exporter": "python",
   "pygments_lexer": "ipython2",
   "version": "2.7.11+"
  }
 },
 "nbformat": 4,
 "nbformat_minor": 0
}
