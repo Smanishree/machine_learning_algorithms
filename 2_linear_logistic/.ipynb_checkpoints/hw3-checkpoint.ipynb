{
 "cells": [
  {
   "cell_type": "markdown",
   "metadata": {},
   "source": [
    "## Linear and Logistic Regression "
   ]
  },
  {
   "cell_type": "code",
   "execution_count": 21,
   "metadata": {
    "collapsed": false
   },
   "outputs": [],
   "source": [
    "import numpy as np\n",
    "from scipy import io\n",
    "import matplotlib.pyplot as plt\n",
    "from scipy.special import expit\n",
    "%matplotlib inline "
   ]
  },
  {
   "cell_type": "markdown",
   "metadata": {},
   "source": [
    "We will implement a least squares linear regression classifier. This classifier minimizes the sum of squares of the residuals, the residuals being the difference between the true and predicted values. "
   ]
  },
  {
   "cell_type": "code",
   "execution_count": 13,
   "metadata": {
    "collapsed": false
   },
   "outputs": [],
   "source": [
    "class least_sqr_linreg:\n",
    "    def __init__(self):\n",
    "        self.omega = None\n",
    "        \n",
    "    def fit(self, x, y):\n",
    "        alpha = np.dot(x.T, x)\n",
    "        beta = np.dot(x.T, y)\n",
    "        self.omega = np.linalg.solve(alpha, beta)\n",
    "    \n",
    "    def predict(self, x):\n",
    "        return np.dot(x, self.omega)\n",
    "    \n",
    "    def rss(self, x, y):\n",
    "        alpha = np.dot(x, self.omega) - y\n",
    "        return np.dot(alpha.T, alpha)"
   ]
  },
  {
   "cell_type": "markdown",
   "metadata": {},
   "source": [
    "We will use our classifier to try and predict the value of a house given a set of features. Each sample is represented by 9 features."
   ]
  },
  {
   "cell_type": "code",
   "execution_count": 14,
   "metadata": {
    "collapsed": false
   },
   "outputs": [
    {
     "name": "stdout",
     "output_type": "stream",
     "text": [
      "The residual sum of squares on the validation set is 5.79495379766e+12\n",
      "The range of the predictions is -56562.8275451 , 710798.838692.\n"
     ]
    }
   ],
   "source": [
    "houseData = io.loadmat('data/housing_data.mat')\n",
    "x = houseData['Xtrain']\n",
    "\n",
    "# adding bias term (1)\n",
    "x_train = np.insert(x, x.shape[1], 1, axis=1)\n",
    "\n",
    "# fitting\n",
    "classifier = least_sqr_linreg()\n",
    "classifier.fit(x_train, houseData['Ytrain'])\n",
    "\n",
    "# testing on validation set\n",
    "y = houseData['Xvalidate']\n",
    "# adding bias\n",
    "y_validate = np.insert(y, y.shape[1], 1, axis=1)\n",
    "\n",
    "predictions = classifier.predict(y_validate)\n",
    "rss = classifier.rss(y_validate, houseData['Yvalidate'])\n",
    "\n",
    "print 'The residual sum of squares on the validation set is', rss[0][0]\n",
    "print 'The range of the predictions is {0} , {1}.'.format(min(predictions)[0], max(predictions)[0])"
   ]
  },
  {
   "cell_type": "markdown",
   "metadata": {},
   "source": [
    "Our classifier is not that great, notice we have negative values in our range of predictions. "
   ]
  },
  {
   "cell_type": "markdown",
   "metadata": {},
   "source": [
    "An assumption when using regression is that the residuals are normally distributed. We will verify this. "
   ]
  },
  {
   "cell_type": "code",
   "execution_count": 16,
   "metadata": {
    "collapsed": false
   },
   "outputs": [
    {
     "data": {
      "text/plain": [
       "(array([   2.,    0.,    0.,    1.,    2.,    2.,    1.,    2.,    4.,\n",
       "           3.,    7.,    6.,    6.,   13.,   15.,   17.,   36.,   46.,\n",
       "          42.,   48.,   72.,   98.,  107.,  142.,  128.,  150.,   95.,\n",
       "          65.,   41.,   22.,   10.,    2.,    4.,    3.,    3.,    2.,\n",
       "           1.,    0.,    0.,    1.,    0.,    0.,    0.,    0.,    0.,\n",
       "           0.,    0.,    0.,    0.,    1.]),\n",
       " array([-345249.54555342, -329976.19428303, -314702.84301265,\n",
       "        -299429.49174226, -284156.14047187, -268882.78920148,\n",
       "        -253609.43793109, -238336.0866607 , -223062.73539031,\n",
       "        -207789.38411992, -192516.03284953, -177242.68157914,\n",
       "        -161969.33030875, -146695.97903837, -131422.62776798,\n",
       "        -116149.27649759, -100875.9252272 ,  -85602.57395681,\n",
       "         -70329.22268642,  -55055.87141603,  -39782.52014564,\n",
       "         -24509.16887525,   -9235.81760486,    6037.53366553,\n",
       "          21310.88493592,   36584.2362063 ,   51857.58747669,\n",
       "          67130.93874708,   82404.29001747,   97677.64128786,\n",
       "         112950.99255825,  128224.34382864,  143497.69509903,\n",
       "         158771.04636942,  174044.39763981,  189317.7489102 ,\n",
       "         204591.10018059,  219864.45145097,  235137.80272136,\n",
       "         250411.15399175,  265684.50526214,  280957.85653253,\n",
       "         296231.20780292,  311504.55907331,  326777.9103437 ,\n",
       "         342051.26161409,  357324.61288448,  372597.96415487,\n",
       "         387871.31542525,  403144.66669564,  418418.01796603]),\n",
       " <a list of 50 Patch objects>)"
      ]
     },
     "execution_count": 16,
     "metadata": {},
     "output_type": "execute_result"
    },
    {
     "data": {
      "image/png": "[encoded data removed]",
      "text/plain": [
       "<matplotlib.figure.Figure at 0x7fb13b3a09d0>"
      ]
     },
     "metadata": {},
     "output_type": "display_data"
    }
   ],
   "source": [
    "residuals = np.dot(y_validate, classifier.omega) - houseData['Yvalidate']\n",
    "plt.figure(figsize=(10,10))\n",
    "plt.hist(residuals, 50)"
   ]
  },
  {
   "cell_type": "markdown",
   "metadata": {},
   "source": [
    "It resembles a normal distribution."
   ]
  },
  {
   "cell_type": "markdown",
   "metadata": {},
   "source": [
    "## Gradient derivation of logistic regression"
   ]
  },
  {
   "cell_type": "markdown",
   "metadata": {},
   "source": [
    "\\begin{align*}\n",
    "R[w] &= \\sum_{i=1}^{n}log(1 + e^{-z^{(i)}}) = \\sum_{i=1}^{n}log(\\frac{e^{z^{(i)}} + 1}{e^{z^{(i)}}}) \\\\\n",
    "&= \\sum_{i=1}^{n}log(e^{z^{(i)}} + 1) - z^{(i)} \\\\\n",
    "\\nabla R[w] &= \\frac{\\partial}{\\partial w_{j}}(\\sum_{i=1}^{n}log(e^{z^{(i)}} + 1) - z^{(i)}) \\\\\n",
    "&= \\sum_{i=1}^{n}\\frac{y^{(i)}x_{j}^{(i)}e^{z^{(i)}}}{1 + e^{z^{(i)}}} - y^{(i)}x_{j}^{(i)} \\\\\n",
    "&= \\sum_{i=1}^{n}y^{(i)}x_{j}^{(i)}(\\frac{e^{z^{(i)}}}{1 + e^{z^{(i)}}} - 1) = \\sum_{i=1}^{n}y^{(i)}x_{j}^{(i)}(\\frac{-1}{1 + e^{z^{(i)}}}) \\\\\n",
    "&= -Q^{T}Sig(-z) \\\\\n",
    "\\end{align*}\n",
    "\n",
    "Where $Q = diag(Y)X$ and $Sig$ is the sigmoid function."
   ]
  },
  {
   "cell_type": "markdown",
   "metadata": {},
   "source": [
    "Classify spam data using logistic regression and batch gradient descent. We will pre-process the data 3 different ways and see how this affects the risk."
   ]
  },
  {
   "cell_type": "code",
   "execution_count": 29,
   "metadata": {
    "collapsed": false
   },
   "outputs": [],
   "source": [
    "# load data\n",
    "spamData = io.loadmat('data/spam.mat')\n",
    "xTrain = spamData['Xtrain']\n",
    "yTrain = spamData['Ytrain']"
   ]
  },
  {
   "cell_type": "code",
   "execution_count": 30,
   "metadata": {
    "collapsed": false
   },
   "outputs": [],
   "source": [
    "# pre-processing\n",
    "# standardize data\n",
    "stdData = (xTrain - np.mean(xTrain)) / np.std(xTrain)\n",
    "# taking the log of the data\n",
    "logData = np.log(xTrain + 0.1)\n",
    "# making features into binary features\n",
    "binData = []\n",
    "\n",
    "for i in range(xTrain.shape[0]):\n",
    "    rowData = []\n",
    "    for j in range(xTrain.shape[1]):\n",
    "        if xTrain[i][j] > 0:\n",
    "            rowData.append(1)\n",
    "        else:\n",
    "            rowData.append(0)\n",
    "    binData.append(rowData)\n",
    "\n",
    "binData = np.asarray(binData)"
   ]
  },
  {
   "cell_type": "code",
   "execution_count": 31,
   "metadata": {
    "collapsed": false
   },
   "outputs": [],
   "source": [
    "def batch_grad_desc(x, y, eta=0.0001, iters=5000):\n",
    "    w = np.zeros(x.shape[1])\n",
    "    y = y.T[0]\n",
    "    Q = np.dot(np.diag(y), x)\n",
    "    risk = []\n",
    "    for i in range(iters):\n",
    "        z = np.dot(Q, w)\n",
    "        w += eta * np.dot(Q.T, expit(- z))\n",
    "        risk.append(sum(np.log(1 + np.exp(- z))))\n",
    "    return risk\n",
    "    "
   ]
  },
  {
   "cell_type": "markdown",
   "metadata": {},
   "source": [
    "### Standardize Data"
   ]
  },
  {
   "cell_type": "code",
   "execution_count": 34,
   "metadata": {
    "collapsed": false
   },
   "outputs": [
    {
     "data": {
      "text/plain": [
       "<matplotlib.text.Text at 0x7fb138719e10>"
      ]
     },
     "execution_count": 34,
     "metadata": {},
     "output_type": "execute_result"
    },
    {
     "data": {
      "image/png": "[encoded data removed]",
      "text/plain": [
       "<matplotlib.figure.Figure at 0x7fb1388a1510>"
      ]
     },
     "metadata": {},
     "output_type": "display_data"
    }
   ],
   "source": [
    "stdRisk = batch_grad_desc(stdData, yTrain, eta=0.00001)\n",
    "plt.plot(stdRisk)\n",
    "plt.ylabel('Risk')\n",
    "plt.xlabel('Number of Iterations')"
   ]
  },
  {
   "cell_type": "markdown",
   "metadata": {},
   "source": [
    "### Log Data"
   ]
  },
  {
   "cell_type": "code",
   "execution_count": 35,
   "metadata": {
    "collapsed": false
   },
   "outputs": [
    {
     "data": {
      "text/plain": [
       "<matplotlib.text.Text at 0x7fb138601ad0>"
      ]
     },
     "execution_count": 35,
     "metadata": {},
     "output_type": "execute_result"
    },
    {
     "data": {
      "image/png": "[encoded data removed]",
      "text/plain": [
       "<matplotlib.figure.Figure at 0x7fb1388a1590>"
      ]
     },
     "metadata": {},
     "output_type": "display_data"
    }
   ],
   "source": [
    "logRisk = batch_grad_desc(logData, yTrain, eta=0.00001)\n",
    "plt.plot(logRisk)\n",
    "plt.ylabel('Risk')\n",
    "plt.xlabel('Number of Iterations')"
   ]
  },
  {
   "cell_type": "markdown",
   "metadata": {},
   "source": [
    "### Binary Data"
   ]
  },
  {
   "cell_type": "code",
   "execution_count": 36,
   "metadata": {
    "collapsed": false
   },
   "outputs": [
    {
     "data": {
      "text/plain": [
       "<matplotlib.text.Text at 0x7fb13867ea50>"
      ]
     },
     "execution_count": 36,
     "metadata": {},
     "output_type": "execute_result"
    },
    {
     "data": {
      "image/png": "[encoded data removed]",
      "text/plain": [
       "<matplotlib.figure.Figure at 0x7fb1383eb290>"
      ]
     },
     "metadata": {},
     "output_type": "display_data"
    }
   ],
   "source": [
    "binRisk = batch_grad_desc(binData, yTrain)\n",
    "plt.plot(binRisk)\n",
    "plt.ylabel('Risk')\n",
    "plt.xlabel('Number of Iterations')"
   ]
  },
  {
   "cell_type": "markdown",
   "metadata": {},
   "source": [
    "We can see that the risk decreases faster with the binarized data."
   ]
  },
  {
   "cell_type": "markdown",
   "metadata": {},
   "source": [
    "## Logistic Regression - Stochastic Descent Gradient Derivation"
   ]
  },
  {
   "cell_type": "markdown",
   "metadata": {},
   "source": [
    "\\begin{align*}\n",
    "L[w] &= log(1 + e^{-z^{(i)}}) = log(\\frac{e^{z^{(i)}} + 1}{e^{z^{(i)}}}) \\\\\n",
    "&= log(e^{z^{(i)}} + 1) - z^{(i)} \\\\\n",
    "\\nabla L[w] &= \\frac{\\partial}{\\partial w_{j}}(log(e^{z^{(i)}} + 1) - z^{(i)}) \\\\\n",
    "&= \\frac{y^{(i)}x_{j}^{(i)}e^{z^{(i)}}}{1 + e^{z^{(i)}}} - y^{(i)}x_{j}^{(i)} \\\\\n",
    "&= y^{(i)}x_{j}^{(i)}(\\frac{e^{z^{(i)}}}{1 + e^{z^{(i)}}} - 1) = y^{(i)}x_{j}^{(i)}(\\frac{-1}{1 + e^{z^{(i)}}}) \\\\\n",
    "&= - y^{(i)}x_{j}^{(i)}Sig(- z^{(i)})\n",
    "\\end{align*}\n",
    "\n",
    "where $i \\in {\\{1, 2, 3, ..., n\\}}$ is choosen at random."
   ]
  },
  {
   "cell_type": "code",
   "execution_count": 37,
   "metadata": {
    "collapsed": false
   },
   "outputs": [],
   "source": [
    "def stoc_grad_desc(x, y, eta=0.0001, iters=5000):\n",
    "    n = x.shape[0]\n",
    "    w = np.zeros(x.shape[1])\n",
    "    y = y.T[0]\n",
    "    Q = np.dot(np.diag(y), x)\n",
    "    risk = []\n",
    "    for _ in range(iters):\n",
    "        i = np.random.randint(n)\n",
    "        z = np.dot(Q, w)\n",
    "        w += eta * y[i] * x[i] * expit(- z[i])\n",
    "        risk.append(sum(np.log(1 + np.exp(- z))))\n",
    "    return risk"
   ]
  },
  {
   "cell_type": "markdown",
   "metadata": {},
   "source": [
    "### Standardize Data - Stochastic Descent"
   ]
  },
  {
   "cell_type": "code",
   "execution_count": 38,
   "metadata": {
    "collapsed": false
   },
   "outputs": [
    {
     "data": {
      "text/plain": [
       "<matplotlib.text.Text at 0x7fb138371f10>"
      ]
     },
     "execution_count": 38,
     "metadata": {},
     "output_type": "execute_result"
    },
    {
     "data": {
      "image/png": "[encoded data removed]",
      "text/plain": [
       "<matplotlib.figure.Figure at 0x7fb13838ca90>"
      ]
     },
     "metadata": {},
     "output_type": "display_data"
    }
   ],
   "source": [
    "stdLoss = stoc_grad_desc(stdData, yTrain, eta=0.001)\n",
    "plt.plot(stdLoss)\n",
    "plt.ylabel('Loss')\n",
    "plt.xlabel('Number of Iterations')"
   ]
  },
  {
   "cell_type": "markdown",
   "metadata": {},
   "source": [
    "### Log Data - Stochastic Descent"
   ]
  },
  {
   "cell_type": "code",
   "execution_count": 39,
   "metadata": {
    "collapsed": false
   },
   "outputs": [
    {
     "data": {
      "text/plain": [
       "<matplotlib.text.Text at 0x7fb13838c510>"
      ]
     },
     "execution_count": 39,
     "metadata": {},
     "output_type": "execute_result"
    },
    {
     "data": {
      "image/png": "[encoded data removed]",
      "text/plain": [
       "<matplotlib.figure.Figure at 0x7fb13830c250>"
      ]
     },
     "metadata": {},
     "output_type": "display_data"
    }
   ],
   "source": [
    "logLoss = stoc_grad_desc(logData, yTrain, eta=0.001)\n",
    "plt.plot(logLoss)\n",
    "plt.ylabel('Loss')\n",
    "plt.xlabel('Number of Iterations')"
   ]
  },
  {
   "cell_type": "markdown",
   "metadata": {},
   "source": [
    "### Binary Data - Stochastic Descent"
   ]
  },
  {
   "cell_type": "code",
   "execution_count": 40,
   "metadata": {
    "collapsed": false
   },
   "outputs": [
    {
     "data": {
      "text/plain": [
       "<matplotlib.text.Text at 0x7fb1384d2bd0>"
      ]
     },
     "execution_count": 40,
     "metadata": {},
     "output_type": "execute_result"
    },
    {
     "data": {
      "image/png": "[encoded data removed]",
      "text/plain": [
       "<matplotlib.figure.Figure at 0x7fb138405550>"
      ]
     },
     "metadata": {},
     "output_type": "display_data"
    }
   ],
   "source": [
    "binLoss = stoc_grad_desc(binData, yTrain, eta=0.01)\n",
    "plt.plot(binLoss)\n",
    "plt.ylabel('Loss')\n",
    "plt.xlabel('Number of Iterations')"
   ]
  },
  {
   "cell_type": "markdown",
   "metadata": {},
   "source": [
    "Difference between batch and stochastic gradient descent: We can see from our plots that although both are decreasing, at some points there are spikes in the loss using stochastic gradient descent, but stochastic descent is faster to compute. When trying to minimize risk/loss, it is easier to get stuck in local minima using batch gradient descent. "
   ]
  }
 ],
 "metadata": {
  "kernelspec": {
   "display_name": "Python 2",
   "language": "python",
   "name": "python2"
  },
  "language_info": {
   "codemirror_mode": {
    "name": "ipython",
    "version": 2
   },
   "file_extension": ".py",
   "mimetype": "text/x-python",
   "name": "python",
   "nbconvert_exporter": "python",
   "pygments_lexer": "ipython2",
   "version": "2.7.11+"
  }
 },
 "nbformat": 4,
 "nbformat_minor": 0
}
