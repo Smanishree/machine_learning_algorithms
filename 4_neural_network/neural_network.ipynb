{
 "cells": [
  {
   "cell_type": "markdown",
   "metadata": {},
   "source": [
    "Ernesto Ezequiel Perez  \n",
    "SID 23181869  \n",
    "HW6"
   ]
  },
  {
   "cell_type": "markdown",
   "metadata": {},
   "source": [
    "# Problem 1 - Mean Squared Error"
   ]
  },
  {
   "cell_type": "markdown",
   "metadata": {},
   "source": [
    "$J = \\frac{1}{2}\\sum_{k=1}^{n_{out}}(y_{k} - h_{k}(x))^{2}$  \n",
    "\n",
    "$v_{j} = \\sum_{i}w^{(1)}_{ij}x_{i}$  \n",
    "$\\alpha_{j} = f(v_{j}) = tanh(v_{j})$  \n",
    "$\\lambda_{k} = \\sum_{j}w^{(2)}_{jk}\\alpha_{j}$  \n",
    "$h_{k} = sigmoid(\\lambda_{k})$  \n",
    "$h_{k}(x) = sigmoid(\\sum_{j}w^{(2)}_{jk}tanh(\\sum_{i}w^{(1)}_{ij}x_{i}))$  \n",
    "\n",
    "Where $x$ is a data point, and $x_{i}$ denotes the ith feature.  \n",
    "\n",
    "$\\frac{\\partial J}{\\partial w^{(1)}_{ij}} = \\sum_{k=1}^{n_{out}}(y_{k} - h_{k})h_{k}(h_{k} - 1)w^{(2)}_{jk}(1 - tanh^{2}(\\sum_{i}w^{(1)}_{ij}x_{i}))x_{i}$  \n",
    "\n",
    "$\\frac{\\partial J}{\\partial w^{(2)}_{jk}} = \\sum_{k=1}^{n_{out}}(y_{k} - h_{k})h_{k}(h_{k} - 1)tanh(\\sum_{i}w^{(1)}_{ij}x_{i})$"
   ]
  },
  {
   "cell_type": "markdown",
   "metadata": {},
   "source": [
    "# Problem 1 - Cross Entropy Error"
   ]
  },
  {
   "cell_type": "markdown",
   "metadata": {},
   "source": [
    "$J = - \\sum_{k=1}^{n_{out}}[y_{k}ln(h_{k}(x)) + (1 - y_{k})ln(1 - h_{k}(x))]$  \n",
    "\n",
    "$\\frac{\\partial J}{\\partial w^{(1)}_{ij}} = - \\sum_{k=1}^{n_{out}}(y_{k} - h_{k})w^{(2)}_{jk}(1 - tanh^{2}(\\sum_{i}w^{(1)}_{ij}x_{i}))x_{i}$  \n",
    "\n",
    "$\\frac{\\partial J}{\\partial w^{(2)}_{jk}} = - \\sum_{k=1}^{n_{out}}(y_{k} - h_{k})tanh(\\sum_{i}w^{(1)}_{ij}x_{i})$  \n",
    "\n",
    "Where $h_{k}$ is the same as in the mean square error derivation. "
   ]
  },
  {
   "cell_type": "markdown",
   "metadata": {},
   "source": [
    "## Problem 2"
   ]
  },
  {
   "cell_type": "code",
   "execution_count": 1,
   "metadata": {
    "collapsed": false
   },
   "outputs": [],
   "source": [
    "from scipy.io import loadmat\n",
    "import numpy as np\n",
    "import matplotlib.pyplot as plt\n",
    "from sklearn.preprocessing import normalize\n",
    "%matplotlib inline\n",
    "\n",
    "data = loadmat('../data/digit-dataset/train.mat')"
   ]
  },
  {
   "cell_type": "code",
   "execution_count": 4,
   "metadata": {
    "collapsed": false
   },
   "outputs": [],
   "source": [
    "raw_images = [img.flatten().astype('float') for img in data['train_images'].T]\n",
    "raw_images = normalize(raw_images)\n",
    "trainImg = np.hstack((raw_images, np.ones((60000,1))))\n",
    "labels = np.asarray([ lbl[0] for lbl in data['train_labels']])"
   ]
  },
  {
   "cell_type": "code",
   "execution_count": 3,
   "metadata": {
    "collapsed": false
   },
   "outputs": [],
   "source": [
    "indxs = range(trainImg.shape[0])\n",
    "np.random.shuffle(indxs)\n",
    "shuffled_data = [(trainImg[i], labels[i]) for i in indxs]\n",
    "trainImg, labels = zip(*shuffled_data)\n",
    "\n",
    "trainLbls = []\n",
    "for i in labels:\n",
    "    label = [0.0]*10\n",
    "    label[i] = 1.0\n",
    "    trainLbls.append(label)\n",
    "    \n",
    "trainLbls = np.array(trainLbls)\n",
    "trainImg = np.array(trainImg)"
   ]
  },
  {
   "cell_type": "code",
   "execution_count": 4,
   "metadata": {
    "collapsed": false
   },
   "outputs": [
    {
     "data": {
      "text/plain": [
       "(60000L, 785L)"
      ]
     },
     "execution_count": 4,
     "metadata": {},
     "output_type": "execute_result"
    }
   ],
   "source": [
    "trainImg.shape"
   ]
  },
  {
   "cell_type": "code",
   "execution_count": 5,
   "metadata": {
    "collapsed": false
   },
   "outputs": [],
   "source": [
    "def sigfunc(x):\n",
    "    if x.all() >= 0:\n",
    "        return 1.0 / (1.0 + np.exp(-x))\n",
    "    else:\n",
    "        z = np.exp(x)\n",
    "        return z / (1 + z)\n",
    "\n",
    "def sigPrime(z):\n",
    "    return sigfunc(z)*(1.0 - sigfunc(z))"
   ]
  },
  {
   "cell_type": "code",
   "execution_count": 6,
   "metadata": {
    "collapsed": false
   },
   "outputs": [],
   "source": [
    "def forward(x, w1, w2):\n",
    "    v = np.dot(x, w1)\n",
    "    a = np.tanh(v)\n",
    "    lam = np.dot(a, w2)\n",
    "    hk = sigfunc(lam)\n",
    "    return a, hk"
   ]
  },
  {
   "cell_type": "code",
   "execution_count": 7,
   "metadata": {
    "collapsed": false
   },
   "outputs": [],
   "source": [
    "def mseGradients(x, y, a, hk, w2):\n",
    "    delta1 = np.multiply((y - hk), (hk - 1.0))\n",
    "    delta2 = np.multiply(delta1, hk)\n",
    "    djdw2 = np.dot(np.array([a]).T, np.array([delta2]))\n",
    "    \n",
    "    delta3 = np.dot(delta2, w2.T)\n",
    "    delta4 = np.multiply(delta3, (1.0 - np.square(a)))\n",
    "    djdw1 = np.dot(np.array([x]).T, np.array([delta4]))\n",
    "    return djdw1, djdw2\n",
    "\n",
    "def xeGradients(x, y, a, hk, w2):\n",
    "    delta1 = hk - y\n",
    "    djdw2 = np.dot(np.array([a]).T, np.array([delta1]))\n",
    "    \n",
    "    delta2 = np.dot(delta1, w2.T)\n",
    "    delta3 = np.multiply(delta2, (1.0 - np.square(a)))\n",
    "    djdw1 = np.dot(np.array([x]).T, np.array([delta3]))\n",
    "    return  djdw1,  djdw2\n",
    "    "
   ]
  },
  {
   "cell_type": "code",
   "execution_count": 8,
   "metadata": {
    "collapsed": false
   },
   "outputs": [],
   "source": [
    "def meanSquareError(y, yHat):\n",
    "    return 0.5 * np.sum(np.square(y - yHat)) / float(y.shape[0])\n",
    "\n",
    "def crossEntropyError(y, yHat):\n",
    "    yHat = np.array([max(a, 1e-15) for a in yHat])\n",
    "    a = np.multiply(-y, np.log(yHat))\n",
    "    b = np.multiply((y - 1.0), (np.log((1.0 + 1e-15) - yHat)))\n",
    "    return np.sum(a + b) / float(y.shape[0])"
   ]
  },
  {
   "cell_type": "code",
   "execution_count": 9,
   "metadata": {
    "collapsed": false
   },
   "outputs": [],
   "source": [
    "def trainNN(images, labels, costfunc, gradients, eta=0.2, err=0.00001, maxiters=500000):\n",
    "    w1 = np.random.uniform(-0.1, 0.1, (785, 51))\n",
    "    w2 = np.random.uniform(-0.1, 0.1, (51, 10))\n",
    "    curr_error = 0.0\n",
    "    lowest_error = 1e+15\n",
    "    iters = 0.0\n",
    "    \n",
    "    while(iters < maxiters):\n",
    "        idx = np.random.randint(0,images.shape[0])\n",
    "        image = images[idx]\n",
    "        label = labels[idx]\n",
    "        a, yHat = forward(image, w1, w2)\n",
    "        djdw1, djdw2 = gradients(image, label, a, yHat, w2)\n",
    "        w1 -= eta*djdw1\n",
    "        w2 -= eta*djdw2\n",
    "        iters += 1.0\n",
    "        curr_error += costfunc(label, yHat)\n",
    "        if iters % 1000 == 0:\n",
    "            curr_error /= 1000.0\n",
    "            if np.absolute(lowest_error - curr_error) < err:\n",
    "                return w1, w2\n",
    "            if curr_error < lowest_error:\n",
    "                lowest_error = curr_error            \n",
    "            curr_error = 0.0\n",
    "        if iters % 250000 == 0.0:\n",
    "            eta -= 0.005\n",
    "            \n",
    "    return w1, w2"
   ]
  },
  {
   "cell_type": "code",
   "execution_count": 10,
   "metadata": {
    "collapsed": false
   },
   "outputs": [],
   "source": [
    "def predictNN(images, w1, w2):\n",
    "    labels = []\n",
    "    \n",
    "    for img in images:\n",
    "        _, hk = forward(img, w1, w2)\n",
    "        labels.append(np.argmax(hk))\n",
    "    return labels"
   ]
  },
  {
   "cell_type": "code",
   "execution_count": 11,
   "metadata": {
    "collapsed": false
   },
   "outputs": [],
   "source": [
    "w1, w2 = trainNN(trainImg[:50000], trainLbls[:50000], costfunc=meanSquareError, gradients=mseGradients, maxiters=10000000)"
   ]
  },
  {
   "cell_type": "code",
   "execution_count": 12,
   "metadata": {
    "collapsed": false
   },
   "outputs": [],
   "source": [
    "pred = predictNN(trainImg[50000:], w1, w2)"
   ]
  },
  {
   "cell_type": "code",
   "execution_count": 13,
   "metadata": {
    "collapsed": false
   },
   "outputs": [
    {
     "name": "stdout",
     "output_type": "stream",
     "text": [
      "0.952\n"
     ]
    }
   ],
   "source": [
    "hits = 0.0\n",
    "valLabels = labels[50000:]\n",
    "for i in range(len(valLabels)):\n",
    "    if valLabels[i] == pred[i]:\n",
    "        hits += 1.0\n",
    "print str(hits / float(len(pred)))"
   ]
  }
 ],
 "metadata": {
  "kernelspec": {
   "display_name": "Python 2",
   "language": "python",
   "name": "python2"
  },
  "language_info": {
   "codemirror_mode": {
    "name": "ipython",
    "version": 2
   },
   "file_extension": ".py",
   "mimetype": "text/x-python",
   "name": "python",
   "nbconvert_exporter": "python",
   "pygments_lexer": "ipython2",
   "version": "2.7.11+"
  }
 },
 "nbformat": 4,
 "nbformat_minor": 0
}
